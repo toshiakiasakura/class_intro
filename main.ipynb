{
 "cells": [
  {
   "cell_type": "markdown",
   "metadata": {},
   "source": [
    "# Introduction to class usage. \n",
    "Please become master of greeting in various languages. "
   ]
  },
  {
   "cell_type": "code",
   "execution_count": null,
   "metadata": {},
   "outputs": [],
   "source": [
    "import questions\n",
    "Qs = questions.questions()"
   ]
  },
  {
   "cell_type": "markdown",
   "metadata": {},
   "source": [
    "# Basic class usage "
   ]
  },
  {
   "cell_type": "code",
   "execution_count": null,
   "metadata": {},
   "outputs": [],
   "source": [
    "class Sample1():\n",
    "    title = \"Sample class\" # class variable \n",
    "    \n",
    "    def __init__(self): # called when instantiated \n",
    "        self.greet = \"Hello world\" # instance variable \n",
    "        self.language = \"English\"\n",
    "    \n",
    "    def hello(self, name): # (instance) method. \n",
    "        print(f\"Hello! {name}\")\n",
    "    \n",
    "    def goodnight(self): \n",
    "        \"\"\"Can set or return variable. \n",
    "        \"\"\"\n",
    "        s = f\"Good night ({self.language})\"\n",
    "        print(s)\n",
    "        self.greet = s\n",
    "        return(s)"
   ]
  },
  {
   "cell_type": "code",
   "execution_count": null,
   "metadata": {},
   "outputs": [],
   "source": [
    "samp1 = Sample1()"
   ]
  },
  {
   "cell_type": "code",
   "execution_count": null,
   "metadata": {},
   "outputs": [],
   "source": [
    "print(samp1.greet)\n",
    "print(samp1.language)"
   ]
  },
  {
   "cell_type": "code",
   "execution_count": null,
   "metadata": {},
   "outputs": [],
   "source": [
    "samp1.hello(\"Michael\")\n",
    "samp1.hello(\"George\")"
   ]
  },
  {
   "cell_type": "code",
   "execution_count": null,
   "metadata": {},
   "outputs": [],
   "source": [
    "greet = samp1.goodnight()"
   ]
  },
  {
   "cell_type": "code",
   "execution_count": null,
   "metadata": {},
   "outputs": [],
   "source": [
    "print(greet)\n",
    "print(samp1.greet)"
   ]
  },
  {
   "cell_type": "markdown",
   "metadata": {},
   "source": [
    "## When instantiated, \"\\_\\_init\\_\\_\" can take arguments. "
   ]
  },
  {
   "cell_type": "code",
   "execution_count": null,
   "metadata": {},
   "outputs": [],
   "source": [
    "class Sample2():\n",
    "    def __init__(self, x):\n",
    "        self.x = x \n"
   ]
  },
  {
   "cell_type": "code",
   "execution_count": null,
   "metadata": {},
   "outputs": [],
   "source": [
    "samp2_1 = Sample2(1)\n",
    "samp2_2 = Sample2(2)"
   ]
  },
  {
   "cell_type": "code",
   "execution_count": null,
   "metadata": {},
   "outputs": [],
   "source": [
    "print(samp2_1.x)\n",
    "print(samp2_2.x)"
   ]
  },
  {
   "cell_type": "code",
   "execution_count": null,
   "metadata": {},
   "outputs": [],
   "source": [
    "class Sample3():\n",
    "    pass \n",
    "    # empty class"
   ]
  },
  {
   "cell_type": "code",
   "execution_count": null,
   "metadata": {},
   "outputs": [],
   "source": [
    "samp3 = Sample3()\n",
    "def f(name):\n",
    "    print(f\"Good morning! {name}\")\n",
    "    \n",
    "samp3.y =  2\n",
    "samp3.goodmorning = f"
   ]
  },
  {
   "cell_type": "code",
   "execution_count": null,
   "metadata": {},
   "outputs": [],
   "source": [
    "print(samp3.y)\n",
    "samp3.goodmorning(\"Michael\")"
   ]
  },
  {
   "cell_type": "markdown",
   "metadata": {},
   "source": [
    "## Question1. "
   ]
  },
  {
   "cell_type": "code",
   "execution_count": null,
   "metadata": {},
   "outputs": [],
   "source": [
    "q1 = Qs.q1()"
   ]
  },
  {
   "cell_type": "code",
   "execution_count": null,
   "metadata": {},
   "outputs": [],
   "source": [
    "q1.input"
   ]
  },
  {
   "cell_type": "code",
   "execution_count": null,
   "metadata": {},
   "outputs": [],
   "source": [
    "q1.ans"
   ]
  },
  {
   "cell_type": "code",
   "execution_count": null,
   "metadata": {},
   "outputs": [],
   "source": [
    "def ans1(lis):\n",
    "    \"\"\"Write the anwer here.\n",
    "    \"\"\"\n",
    "    return()"
   ]
  },
  {
   "cell_type": "code",
   "execution_count": null,
   "metadata": {},
   "outputs": [],
   "source": [
    "q1.check_answer(ans1) # for funcition "
   ]
  },
  {
   "cell_type": "code",
   "execution_count": null,
   "metadata": {},
   "outputs": [],
   "source": [
    "\"\"\"Write the class for answer. \n",
    "\"\"\"\n"
   ]
  },
  {
   "cell_type": "code",
   "execution_count": null,
   "metadata": {},
   "outputs": [],
   "source": [
    "# for class \n",
    "cls_ = Ans1() # replace class with your own class. \n",
    "q1.check_answer(cls_.answer) # you can change method of this line. "
   ]
  },
  {
   "cell_type": "markdown",
   "metadata": {},
   "source": [
    "## Question2. "
   ]
  },
  {
   "cell_type": "code",
   "execution_count": null,
   "metadata": {},
   "outputs": [],
   "source": [
    "q2 = Qs.q2()"
   ]
  },
  {
   "cell_type": "code",
   "execution_count": null,
   "metadata": {},
   "outputs": [],
   "source": [
    "q2.item"
   ]
  },
  {
   "cell_type": "code",
   "execution_count": null,
   "metadata": {},
   "outputs": [],
   "source": [
    "\"\"\"Write the class for answer. \n",
    "Leave minimum part of class.\n",
    "\"\"\"\n",
    "\n",
    "class Ans2():\n",
    "    pass\n"
   ]
  },
  {
   "cell_type": "code",
   "execution_count": null,
   "metadata": {},
   "outputs": [],
   "source": [
    "# for class \n",
    "cls_ = Ans2() # replace class with your own class. \n",
    "q2.check_answer(cls_.answer) # you can change method of this line. "
   ]
  },
  {
   "cell_type": "markdown",
   "metadata": {},
   "source": [
    "## Question3. "
   ]
  },
  {
   "cell_type": "code",
   "execution_count": null,
   "metadata": {},
   "outputs": [],
   "source": [
    "q3 = Qs.q3()"
   ]
  },
  {
   "cell_type": "code",
   "execution_count": null,
   "metadata": {},
   "outputs": [],
   "source": [
    "q3.item"
   ]
  },
  {
   "cell_type": "code",
   "execution_count": null,
   "metadata": {},
   "outputs": [],
   "source": [
    "\"\"\"Write the class for the answer\n",
    "\"\"\"\n",
    "class Ans3():\n",
    "    item =q3.item\n",
    "    def say1(self, lang):\n",
    "        word = self.item[lang]\n",
    "        return(f\"{word} world! うーにゃー\")\n",
    "\n",
    "    def say2(self, lang):\n",
    "        word = self.item[lang]\n",
    "        return(f\"{word} うーにゃー!\")\n",
    "\n",
    "    def say3(self, lang):\n",
    "        word = self.item[lang]\n",
    "        return(f\"{word} うーにゃー!\")\n"
   ]
  },
  {
   "cell_type": "code",
   "execution_count": null,
   "metadata": {},
   "outputs": [],
   "source": [
    "q3.check_anwer(Ans3)"
   ]
  },
  {
   "cell_type": "markdown",
   "metadata": {},
   "source": [
    "# _dir_ method, Explore method of class"
   ]
  },
  {
   "cell_type": "code",
   "execution_count": null,
   "metadata": {},
   "outputs": [],
   "source": [
    "samp1 = Sample1()\n",
    "dir(samp1)"
   ]
  },
  {
   "cell_type": "markdown",
   "metadata": {},
   "source": [
    "# _setattr_ and _getattr_ function "
   ]
  },
  {
   "cell_type": "code",
   "execution_count": null,
   "metadata": {},
   "outputs": [],
   "source": [
    "class Empty():\n",
    "    pass"
   ]
  },
  {
   "cell_type": "code",
   "execution_count": null,
   "metadata": {},
   "outputs": [],
   "source": [
    "def f():\n",
    "    return(\"Hello\")"
   ]
  },
  {
   "cell_type": "code",
   "execution_count": null,
   "metadata": {},
   "outputs": [],
   "source": [
    "# this is class \n",
    "setattr(Empty,\"num\", 1)\n",
    "setattr(Empty,\"x\",f)"
   ]
  },
  {
   "cell_type": "code",
   "execution_count": null,
   "metadata": {},
   "outputs": [],
   "source": [
    "print(Empty.num)\n",
    "print(Empty.x())"
   ]
  },
  {
   "cell_type": "code",
   "execution_count": null,
   "metadata": {},
   "outputs": [],
   "source": [
    "num = getattr(Empty, \"num\")\n",
    "get_f = getattr(Empty, \"x\")"
   ]
  },
  {
   "cell_type": "code",
   "execution_count": null,
   "metadata": {},
   "outputs": [],
   "source": [
    "print(num)\n",
    "print(get_f())"
   ]
  },
  {
   "cell_type": "code",
   "execution_count": null,
   "metadata": {},
   "outputs": [],
   "source": [
    "em = Empty() \n",
    "setattr(em, \"num2\", 2 )\n",
    "print(em.num2)"
   ]
  },
  {
   "cell_type": "code",
   "execution_count": null,
   "metadata": {},
   "outputs": [],
   "source": [
    "# this raises error.\n",
    "Empty.num2"
   ]
  },
  {
   "cell_type": "markdown",
   "metadata": {},
   "source": [
    "# Question4.  "
   ]
  },
  {
   "cell_type": "code",
   "execution_count": null,
   "metadata": {},
   "outputs": [],
   "source": [
    "q4 = Qs.q4()"
   ]
  },
  {
   "cell_type": "code",
   "execution_count": null,
   "metadata": {},
   "outputs": [],
   "source": [
    "\"\"\"Please write the code to fix the class\n",
    "\"\"\""
   ]
  },
  {
   "cell_type": "code",
   "execution_count": null,
   "metadata": {},
   "outputs": [],
   "source": [
    "# just run this code. \n",
    "q4.check_answer()"
   ]
  },
  {
   "cell_type": "markdown",
   "metadata": {},
   "source": [
    "# Understand self \n",
    "self just indicates the its own object."
   ]
  },
  {
   "cell_type": "code",
   "execution_count": null,
   "metadata": {},
   "outputs": [],
   "source": [
    "class Sample4():\n",
    "    def __init__(self): \n",
    "        self.x = 1 \n",
    "        \n",
    "    def hello(self, name):\n",
    "        print(f\"Hello! {name}\")\n",
    "    \n",
    "    def goodnight(sl, name):\n",
    "        print(f\"Good night! {name}, x: {sl.x}\")\n"
   ]
  },
  {
   "cell_type": "code",
   "execution_count": null,
   "metadata": {},
   "outputs": [],
   "source": [
    "samp4 = Sample4()\n",
    "samp4.hello(\"Micheal\")\n",
    "samp4.goodnight(\"Micheal\")"
   ]
  },
  {
   "cell_type": "code",
   "execution_count": null,
   "metadata": {},
   "outputs": [],
   "source": [
    "# Insert method to instance object.\n",
    "import types\n",
    "def f(self, name):\n",
    "    print(f\"Good morning! {name}, x:{self.x}\")\n",
    "samp4.goodmorning = types.MethodType(f, samp4)"
   ]
  },
  {
   "cell_type": "code",
   "execution_count": null,
   "metadata": {},
   "outputs": [],
   "source": [
    "samp4.goodmorning(\"Micheal\")"
   ]
  },
  {
   "cell_type": "code",
   "execution_count": null,
   "metadata": {},
   "outputs": [],
   "source": [
    "dir(samp4)"
   ]
  },
  {
   "cell_type": "markdown",
   "metadata": {},
   "source": [
    "# _dunder_ methods\n",
    "Abbreviation for duble underscore method.  \n",
    "Everything is object in python ! \n"
   ]
  },
  {
   "cell_type": "code",
   "execution_count": null,
   "metadata": {},
   "outputs": [],
   "source": [
    "class Vector():\n",
    "    def __init__(self, x, y):\n",
    "        self.x = x \n",
    "        self.y = y \n",
    "        \n",
    "    def __repr__(self):\n",
    "        return(f\"({self.x}, {self.y})\")\n",
    "    \n",
    "    def __add__(self, cls):\n",
    "        x = self.x + cls.x\n",
    "        y = self.y + cls.y\n",
    "        return(self.__class__(x,y))\n",
    "    \n",
    "    def __mul__(self, cls):\n",
    "        x = self.x * cls.x\n",
    "        y = self.y * cls.y\n",
    "        return(self.__class__(x,y))\n",
    "       \n",
    "    def __abs__(self):\n",
    "        r = (self.x**2 + self.y**2)**(0.5)\n",
    "        return(r)\n",
    "        "
   ]
  },
  {
   "cell_type": "code",
   "execution_count": null,
   "metadata": {},
   "outputs": [],
   "source": [
    "a = Vector(1,2)\n",
    "b = Vector(2,3)\n",
    "print(f\"a = {a}\")\n",
    "print(f\"b = {b}\")\n",
    "print(f\"a + b = {a + b}\")\n",
    "print(f\"a.__add__(b) = {a.__add__(b)}\")\n",
    "print(f\"a * b = {a * b}\")\n",
    "print(f\"a.__mul__(b) = {a.__mul__(b)}\")\n",
    "print(f\"abs(a)= {abs(a)}\")\n",
    "print(f\"a.__abs__() = {a.__abs__()}\")\n"
   ]
  },
  {
   "cell_type": "markdown",
   "metadata": {},
   "source": [
    "# Question5. "
   ]
  },
  {
   "cell_type": "code",
   "execution_count": null,
   "metadata": {},
   "outputs": [],
   "source": [
    "q5 = Qs.q5()"
   ]
  },
  {
   "cell_type": "code",
   "execution_count": null,
   "metadata": {},
   "outputs": [],
   "source": [
    "\"\"\"Edit the Vector class below\n",
    "\"\"\"\n",
    "class Vector():\n",
    "    def __init__(self, x, y):\n",
    "        self.x = x \n",
    "        self.y = y \n",
    "        \n",
    "    def __repr__(self):\n",
    "        return(f\"({self.x}, {self.y})\")\n",
    "    \n",
    "    def __add__(self, cls):\n",
    "        x = self.x + cls.x\n",
    "        y = self.y + cls.y\n",
    "        return(self.__class__(x,y))\n",
    "\n",
    "        "
   ]
  },
  {
   "cell_type": "code",
   "execution_count": null,
   "metadata": {},
   "outputs": [],
   "source": [
    "a = Vector(1,2)\n",
    "b = Vector(3,4)\n",
    "c = a + b\n",
    "d = c + a "
   ]
  },
  {
   "cell_type": "code",
   "execution_count": null,
   "metadata": {},
   "outputs": [],
   "source": [
    "print(c)\n",
    "display(repr(c))\n",
    "print(d)\n",
    "display(repr(d))"
   ]
  },
  {
   "cell_type": "code",
   "execution_count": null,
   "metadata": {},
   "outputs": [],
   "source": [
    "q5.check_answer(Vector)"
   ]
  },
  {
   "cell_type": "markdown",
   "metadata": {},
   "source": [
    "# Context manager  "
   ]
  },
  {
   "cell_type": "code",
   "execution_count": null,
   "metadata": {},
   "outputs": [],
   "source": [
    "class Sample5():\n",
    "    def __init__(self):\n",
    "        print(\"__init__ called\")\n",
    "        \n",
    "    def __enter__(self):\n",
    "        print(\"__enter__ called\")\n",
    "        return(self)\n",
    "        \n",
    "    def __exit__(self, exc_type, exc_value, exc_traceback):\n",
    "        print('__exit__ called')\n",
    "        if exc_type:\n",
    "            print(f'exc_type: {exc_type}')\n",
    "            print(f'exc_value: {exc_value}')\n",
    "            print(f'exc_traceback: {exc_traceback}')        \n"
   ]
  },
  {
   "cell_type": "code",
   "execution_count": null,
   "metadata": {},
   "outputs": [],
   "source": [
    "samp5 = Sample5()\n",
    "with samp5 as p:\n",
    "    print('inside with statement body')"
   ]
  },
  {
   "cell_type": "code",
   "execution_count": null,
   "metadata": {},
   "outputs": [],
   "source": [
    "samp5 = Sample5()\n",
    "with samp5 as p:\n",
    "    raise Exception(\"Exception called\")\n",
    "    print('inside with statement body')"
   ]
  },
  {
   "cell_type": "markdown",
   "metadata": {},
   "source": [
    "# Matplotlib with context manager  "
   ]
  },
  {
   "cell_type": "code",
   "execution_count": null,
   "metadata": {},
   "outputs": [],
   "source": [
    "import matplotlib.pyplot as plt\n",
    "class BasicPlot():\n",
    "    def __init__(self, xlim=None, ylim=None, xlabel=\"\", ylabel=\"\",title=\"\",\n",
    "            save_path=None, figsize=(5,3), dpi=150, tight=True, show=True):\n",
    "        self.fig = plt.figure(figsize=figsize,dpi=dpi)\n",
    "        self.ax = self.fig.add_subplot(111)\n",
    "        self.ax.set_xlabel(xlabel)\n",
    "        self.ax.set_ylabel(ylabel)\n",
    "        self.ax.set_xlim(xlim) if xlim else None\n",
    "        self.ax.set_ylim(ylim) if ylim else None\n",
    "        \n",
    "        self.save_path = save_path\n",
    "        self.title = title\n",
    "        self.tight = tight\n",
    "        self.show = show\n",
    "\n",
    "    def __enter__(self):\n",
    "        return(self)\n",
    "\n",
    "    def __exit__(self,exc_type, exc_value, exc_traceback):\n",
    "        print(\"sees\")\n",
    "        plt.title(self.title)\n",
    "        plt.tight_layout() if self.tight else None \n",
    "        plt.savefig(self.save_path) if self.save_path else None\n",
    "        plt.show() if self.show else None\n"
   ]
  },
  {
   "cell_type": "code",
   "execution_count": null,
   "metadata": {},
   "outputs": [],
   "source": [
    "with BasicPlot() as p:\n",
    "    p.ax.plot([1,2],[2,3])\n",
    "    pass\n",
    "    #raise Exception(\"Exception called\")"
   ]
  }
 ],
 "metadata": {
  "kernelspec": {
   "display_name": "Python 3",
   "language": "python",
   "name": "python3"
  },
  "language_info": {
   "codemirror_mode": {
    "name": "ipython",
    "version": 3
   },
   "file_extension": ".py",
   "mimetype": "text/x-python",
   "name": "python",
   "nbconvert_exporter": "python",
   "pygments_lexer": "ipython3",
   "version": "3.7.2"
  }
 },
 "nbformat": 4,
 "nbformat_minor": 4
}
