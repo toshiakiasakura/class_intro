{
 "cells": [
  {
   "cell_type": "markdown",
   "metadata": {},
   "source": [
    "# Introduction to class usage. \n",
    "Please become master of greeting in various languages. "
   ]
  },
  {
   "cell_type": "code",
   "execution_count": 51,
   "metadata": {},
   "outputs": [
    {
     "name": "stdout",
     "output_type": "stream",
     "text": [
      "The autoreload extension is already loaded. To reload it, use:\n",
      "  %reload_ext autoreload\n"
     ]
    }
   ],
   "source": [
    "%load_ext autoreload\n",
    "%autoreload 2"
   ]
  },
  {
   "cell_type": "code",
   "execution_count": 52,
   "metadata": {},
   "outputs": [
    {
     "name": "stdout",
     "output_type": "stream",
     "text": [
      "This class contains the following questions.\n",
      "-  Question1\n",
      "-  Question2\n"
     ]
    }
   ],
   "source": [
    "import questions\n",
    "Qs = questions.questions()"
   ]
  },
  {
   "cell_type": "markdown",
   "metadata": {},
   "source": [
    "# Basic class usage "
   ]
  },
  {
   "cell_type": "code",
   "execution_count": 53,
   "metadata": {},
   "outputs": [],
   "source": [
    "class Sample1():\n",
    "    title = \"Sample class\" # class variable \n",
    "    \n",
    "    def __init__(self): # called when instantiated \n",
    "        self.greet = \"Hello world\" # instance variable \n",
    "        self.language = \"English\"\n",
    "    \n",
    "    def hello(self, name): # (instance) method. \n",
    "        print(f\"Hello! {name}\")\n",
    "    \n",
    "    def goodnight(self): \n",
    "        \"\"\"Can set or return variable. \n",
    "        \"\"\"\n",
    "        s = f\"Good night ({self.language})\"\n",
    "        print(s)\n",
    "        self.greet = s\n",
    "        return(s)"
   ]
  },
  {
   "cell_type": "code",
   "execution_count": 54,
   "metadata": {},
   "outputs": [],
   "source": [
    "samp1 = Sample1()"
   ]
  },
  {
   "cell_type": "code",
   "execution_count": 55,
   "metadata": {},
   "outputs": [
    {
     "name": "stdout",
     "output_type": "stream",
     "text": [
      "Hello world\n",
      "English\n"
     ]
    }
   ],
   "source": [
    "print(samp1.greet)\n",
    "print(samp1.language)"
   ]
  },
  {
   "cell_type": "code",
   "execution_count": 56,
   "metadata": {},
   "outputs": [
    {
     "name": "stdout",
     "output_type": "stream",
     "text": [
      "Hello! Michael\n",
      "Hello! George\n"
     ]
    }
   ],
   "source": [
    "samp1.hello(\"Michael\")\n",
    "samp1.hello(\"George\")"
   ]
  },
  {
   "cell_type": "code",
   "execution_count": 57,
   "metadata": {},
   "outputs": [
    {
     "name": "stdout",
     "output_type": "stream",
     "text": [
      "Good night (English)\n"
     ]
    }
   ],
   "source": [
    "greet = samp1.goodnight()"
   ]
  },
  {
   "cell_type": "code",
   "execution_count": 58,
   "metadata": {},
   "outputs": [
    {
     "name": "stdout",
     "output_type": "stream",
     "text": [
      "Good night (English)\n",
      "Good night (English)\n"
     ]
    }
   ],
   "source": [
    "print(greet)\n",
    "print(samp1.greet)"
   ]
  },
  {
   "cell_type": "markdown",
   "metadata": {},
   "source": [
    "## When instantiated, \"\\_\\_init\\_\\_\" can take arguments. "
   ]
  },
  {
   "cell_type": "code",
   "execution_count": 59,
   "metadata": {},
   "outputs": [],
   "source": [
    "class Sample2():\n",
    "    def __init__(self, x):\n",
    "        self.x = x \n"
   ]
  },
  {
   "cell_type": "code",
   "execution_count": 60,
   "metadata": {},
   "outputs": [],
   "source": [
    "samp2_1 = Sample2(1)\n",
    "samp2_2 = Sample2(2)"
   ]
  },
  {
   "cell_type": "code",
   "execution_count": 61,
   "metadata": {},
   "outputs": [
    {
     "name": "stdout",
     "output_type": "stream",
     "text": [
      "1\n",
      "2\n"
     ]
    }
   ],
   "source": [
    "print(samp2_1.x)\n",
    "print(samp2_2.x)"
   ]
  },
  {
   "cell_type": "code",
   "execution_count": 62,
   "metadata": {},
   "outputs": [],
   "source": [
    "class Sample3():\n",
    "    pass \n",
    "    # empty class"
   ]
  },
  {
   "cell_type": "code",
   "execution_count": 63,
   "metadata": {},
   "outputs": [],
   "source": [
    "samp3 = Sample3()\n",
    "def f(name):\n",
    "    print(f\"Good morning! {name}\")\n",
    "    \n",
    "samp3.y =  2\n",
    "samp3.goodmorning = f"
   ]
  },
  {
   "cell_type": "code",
   "execution_count": 64,
   "metadata": {},
   "outputs": [
    {
     "name": "stdout",
     "output_type": "stream",
     "text": [
      "2\n",
      "Good morning! Michael\n"
     ]
    }
   ],
   "source": [
    "print(samp3.y)\n",
    "samp3.goodmorning(\"Michael\")"
   ]
  },
  {
   "cell_type": "markdown",
   "metadata": {},
   "source": [
    "## Question1. "
   ]
  },
  {
   "cell_type": "code",
   "execution_count": 65,
   "metadata": {},
   "outputs": [
    {
     "name": "stdout",
     "output_type": "stream",
     "text": [
      "# Question1:\n",
      "## Explanation:\n",
      "I want to become multilingual person. \n",
      "First, I want to master the various greetings.  \n",
      "\n",
      "Given the string, write the function to say \"<greet word> world! うーにゃー\" string.\n",
      "Next, write the same functionality using class. \n",
      "\n",
      "< Exmaple Input type > \n",
      "<class 'str'>\n",
      "\n",
      "< Exmaple Input > \n",
      "こんにちは\n",
      "\n",
      "< Example Answer type > \n",
      "<class 'str'>\n",
      "\n",
      "< Example Answer output with print> \n",
      "こんにちは world! うーにゃー\n",
      "\n",
      "< Example Answer output with repr> \n",
      "'こんにちは world! うーにゃー'\n"
     ]
    }
   ],
   "source": [
    "q1 = Qs.q1()"
   ]
  },
  {
   "cell_type": "code",
   "execution_count": 66,
   "metadata": {},
   "outputs": [
    {
     "data": {
      "text/plain": [
       "'こんにちは'"
      ]
     },
     "execution_count": 66,
     "metadata": {},
     "output_type": "execute_result"
    }
   ],
   "source": [
    "q1.input"
   ]
  },
  {
   "cell_type": "code",
   "execution_count": 67,
   "metadata": {},
   "outputs": [
    {
     "data": {
      "text/plain": [
       "'こんにちは world! うーにゃー'"
      ]
     },
     "execution_count": 67,
     "metadata": {},
     "output_type": "execute_result"
    }
   ],
   "source": [
    "q1.ans"
   ]
  },
  {
   "cell_type": "code",
   "execution_count": 68,
   "metadata": {},
   "outputs": [],
   "source": [
    "def ans1(lis):\n",
    "    \"\"\"Write the anwer here.\n",
    "    \"\"\"\n",
    "    return(None)"
   ]
  },
  {
   "cell_type": "code",
   "execution_count": 69,
   "metadata": {},
   "outputs": [
    {
     "name": "stdout",
     "output_type": "stream",
     "text": [
      "input is :  Hello\n",
      "WWWWWWWWWWWWWWWWWWWW Answer type is not correct WWWWWWWWWWWWWWWWWW\n",
      "input is :  こんにちは\n",
      "WWWWWWWWWWWWWWWWWWWW Answer type is not correct WWWWWWWWWWWWWWWWWW\n",
      "input is :  Hallo\n",
      "WWWWWWWWWWWWWWWWWWWW Answer type is not correct WWWWWWWWWWWWWWWWWW\n",
      "input is :  Hola\n",
      "WWWWWWWWWWWWWWWWWWWW Answer type is not correct WWWWWWWWWWWWWWWWWW\n",
      "input is :  Здравствуйте\n",
      "WWWWWWWWWWWWWWWWWWWW Answer type is not correct WWWWWWWWWWWWWWWWWW\n",
      "input is :  你好啊\n",
      "WWWWWWWWWWWWWWWWWWWW Answer type is not correct WWWWWWWWWWWWWWWWWW\n"
     ]
    }
   ],
   "source": [
    "q1.check_answer(ans1) # for funcition "
   ]
  },
  {
   "cell_type": "code",
   "execution_count": 70,
   "metadata": {},
   "outputs": [],
   "source": [
    "\"\"\"Write the class for answer. \n",
    "\"\"\"\n",
    "# delete it \n",
    "class Ans1():\n",
    "    def answer(self, hello):\n",
    "        return(f\"{hello} world!\")"
   ]
  },
  {
   "cell_type": "code",
   "execution_count": 71,
   "metadata": {},
   "outputs": [
    {
     "name": "stdout",
     "output_type": "stream",
     "text": [
      "input is :  Hello\n",
      "WWWWWWWWWWWWWWWWWWWWWWW Not Correct WWWWWWWWWWWWWWW\n",
      "input is :  こんにちは\n",
      "WWWWWWWWWWWWWWWWWWWWWWW Not Correct WWWWWWWWWWWWWWW\n",
      "input is :  Hallo\n",
      "WWWWWWWWWWWWWWWWWWWWWWW Not Correct WWWWWWWWWWWWWWW\n",
      "input is :  Hola\n",
      "WWWWWWWWWWWWWWWWWWWWWWW Not Correct WWWWWWWWWWWWWWW\n",
      "input is :  Здравствуйте\n",
      "WWWWWWWWWWWWWWWWWWWWWWW Not Correct WWWWWWWWWWWWWWW\n",
      "input is :  你好啊\n",
      "WWWWWWWWWWWWWWWWWWWWWWW Not Correct WWWWWWWWWWWWWWW\n"
     ]
    }
   ],
   "source": [
    "# for class \n",
    "cls_ = Ans1() # replace class with your own class. \n",
    "q1.check_answer(cls_.answer) # you can change method of this line. "
   ]
  },
  {
   "cell_type": "markdown",
   "metadata": {},
   "source": [
    "## Question2. "
   ]
  },
  {
   "cell_type": "code",
   "execution_count": 72,
   "metadata": {},
   "outputs": [
    {
     "name": "stdout",
     "output_type": "stream",
     "text": [
      "# Question2:\n",
      "## Explanation:\n",
      "I do not satisfy with this result. \n",
      "Everyone can repeat the word if given. \n",
      "So I want to say the word given the language.  \n",
      "\n",
      "Write the class to say \"<greet word> world! うーにゃー\" string given \n",
      "the language name. \n",
      "The dictionary of languages and words are given. \n",
      "The method should only accept one language name.\n",
      "\n",
      "< Exmaple Input type > \n",
      "<class 'str'>\n",
      "\n",
      "< Exmaple Input > \n",
      "Japanese\n",
      "\n",
      "< Example Answer type > \n",
      "<class 'str'>\n",
      "\n",
      "< Example Answer output with print> \n",
      "こんにちは world! うーにゃー\n",
      "\n",
      "< Example Answer output with repr> \n",
      "'こんにちは world! うーにゃー'\n"
     ]
    }
   ],
   "source": [
    "q2 = Qs.q2()"
   ]
  },
  {
   "cell_type": "code",
   "execution_count": 73,
   "metadata": {},
   "outputs": [
    {
     "data": {
      "text/plain": [
       "{'English': 'Hello', 'Japanese': 'こんにちは', 'German': 'Hallo'}"
      ]
     },
     "execution_count": 73,
     "metadata": {},
     "output_type": "execute_result"
    }
   ],
   "source": [
    "q2.item"
   ]
  },
  {
   "cell_type": "code",
   "execution_count": 74,
   "metadata": {},
   "outputs": [],
   "source": [
    "\"\"\"Write the class for answer. \n",
    "\"\"\"\n",
    "# delete it \n",
    "class Ans1():\n",
    "    def answer(self, hello):\n",
    "        return(f\"{hello} world!\")"
   ]
  },
  {
   "cell_type": "code",
   "execution_count": 75,
   "metadata": {},
   "outputs": [
    {
     "name": "stdout",
     "output_type": "stream",
     "text": [
      "input is :  Hello\n",
      "WWWWWWWWWWWWWWWWWWWWWWW Not Correct WWWWWWWWWWWWWWW\n",
      "input is :  こんにちは\n",
      "WWWWWWWWWWWWWWWWWWWWWWW Not Correct WWWWWWWWWWWWWWW\n",
      "input is :  Hallo\n",
      "WWWWWWWWWWWWWWWWWWWWWWW Not Correct WWWWWWWWWWWWWWW\n",
      "input is :  Hola\n",
      "WWWWWWWWWWWWWWWWWWWWWWW Not Correct WWWWWWWWWWWWWWW\n",
      "input is :  Здравствуйте\n",
      "WWWWWWWWWWWWWWWWWWWWWWW Not Correct WWWWWWWWWWWWWWW\n",
      "input is :  你好啊\n",
      "WWWWWWWWWWWWWWWWWWWWWWW Not Correct WWWWWWWWWWWWWWW\n"
     ]
    }
   ],
   "source": [
    "# for class \n",
    "cls_ = Ans1() # replace class with your own class. \n",
    "q1.check_answer(cls_.answer) # you can change method of this line. "
   ]
  },
  {
   "cell_type": "markdown",
   "metadata": {},
   "source": [
    "# _dir_ method, Explore method of class"
   ]
  },
  {
   "cell_type": "code",
   "execution_count": 76,
   "metadata": {},
   "outputs": [
    {
     "data": {
      "text/plain": [
       "['__class__',\n",
       " '__delattr__',\n",
       " '__dict__',\n",
       " '__dir__',\n",
       " '__doc__',\n",
       " '__eq__',\n",
       " '__format__',\n",
       " '__ge__',\n",
       " '__getattribute__',\n",
       " '__gt__',\n",
       " '__hash__',\n",
       " '__init__',\n",
       " '__init_subclass__',\n",
       " '__le__',\n",
       " '__lt__',\n",
       " '__module__',\n",
       " '__ne__',\n",
       " '__new__',\n",
       " '__reduce__',\n",
       " '__reduce_ex__',\n",
       " '__repr__',\n",
       " '__setattr__',\n",
       " '__sizeof__',\n",
       " '__str__',\n",
       " '__subclasshook__',\n",
       " '__weakref__',\n",
       " 'goodnight',\n",
       " 'greet',\n",
       " 'hello',\n",
       " 'language',\n",
       " 'title']"
      ]
     },
     "execution_count": 76,
     "metadata": {},
     "output_type": "execute_result"
    }
   ],
   "source": [
    "samp1 = Sample1()\n",
    "dir(samp1)"
   ]
  },
  {
   "cell_type": "markdown",
   "metadata": {},
   "source": [
    "# Understand self \n",
    "self just indicates the its own object."
   ]
  },
  {
   "cell_type": "code",
   "execution_count": 77,
   "metadata": {},
   "outputs": [],
   "source": [
    "class Sample4():\n",
    "    def __init__(self): \n",
    "        self.x = 1 \n",
    "        \n",
    "    def hello(self, name):\n",
    "        print(f\"Hello! {name}\")\n",
    "    \n",
    "    def goodnight(sl, name):\n",
    "        print(f\"Good night! {name}, x: {sl.x}\")\n"
   ]
  },
  {
   "cell_type": "code",
   "execution_count": 78,
   "metadata": {},
   "outputs": [
    {
     "name": "stdout",
     "output_type": "stream",
     "text": [
      "Hello! Micheal\n",
      "Good night! Micheal, x: 1\n"
     ]
    }
   ],
   "source": [
    "samp4 = Sample4()\n",
    "samp4.hello(\"Micheal\")\n",
    "samp4.goodnight(\"Micheal\")"
   ]
  },
  {
   "cell_type": "code",
   "execution_count": 79,
   "metadata": {},
   "outputs": [],
   "source": [
    "# Insert method to instance object.\n",
    "import types\n",
    "def f(self, name):\n",
    "    print(f\"Good morning! {name}, x:{self.x}\")\n",
    "samp4.goodmorning = types.MethodType(f, samp4)"
   ]
  },
  {
   "cell_type": "code",
   "execution_count": 80,
   "metadata": {},
   "outputs": [
    {
     "name": "stdout",
     "output_type": "stream",
     "text": [
      "Good morning! Micheal, x:1\n"
     ]
    }
   ],
   "source": [
    "samp4.goodmorning(\"Micheal\")"
   ]
  },
  {
   "cell_type": "code",
   "execution_count": 81,
   "metadata": {},
   "outputs": [
    {
     "data": {
      "text/plain": [
       "['__class__',\n",
       " '__delattr__',\n",
       " '__dict__',\n",
       " '__dir__',\n",
       " '__doc__',\n",
       " '__eq__',\n",
       " '__format__',\n",
       " '__ge__',\n",
       " '__getattribute__',\n",
       " '__gt__',\n",
       " '__hash__',\n",
       " '__init__',\n",
       " '__init_subclass__',\n",
       " '__le__',\n",
       " '__lt__',\n",
       " '__module__',\n",
       " '__ne__',\n",
       " '__new__',\n",
       " '__reduce__',\n",
       " '__reduce_ex__',\n",
       " '__repr__',\n",
       " '__setattr__',\n",
       " '__sizeof__',\n",
       " '__str__',\n",
       " '__subclasshook__',\n",
       " '__weakref__',\n",
       " 'goodmorning',\n",
       " 'goodnight',\n",
       " 'hello',\n",
       " 'x']"
      ]
     },
     "execution_count": 81,
     "metadata": {},
     "output_type": "execute_result"
    }
   ],
   "source": [
    "dir(samp4)"
   ]
  },
  {
   "cell_type": "markdown",
   "metadata": {},
   "source": [
    "# dunder methods\n",
    "Abbreviation for duble underscore method.  \n",
    "Everything is object in python ! \n"
   ]
  },
  {
   "cell_type": "code",
   "execution_count": 82,
   "metadata": {},
   "outputs": [],
   "source": [
    "class Vector():\n",
    "    def __init__(self, x, y):\n",
    "        self.x = x \n",
    "        self.y = y \n",
    "        \n",
    "    def __repr__(self):\n",
    "        return(f\"({self.x}, {self.y})\")\n",
    "    \n",
    "    def __add__(self, cls):\n",
    "        x = self.x + cls.x\n",
    "        y = self.y + cls.y\n",
    "        return(self.__class__(x,y))\n",
    "    \n",
    "    def __mul__(self, cls):\n",
    "        x = self.x * cls.x\n",
    "        y = self.y * cls.y\n",
    "        return(self.__class__(x,y))\n",
    "       \n",
    "    def __abs__(self):\n",
    "        r = (self.x**2 + self.y**2)**(0.5)\n",
    "        return(r)\n",
    "        "
   ]
  },
  {
   "cell_type": "code",
   "execution_count": 83,
   "metadata": {},
   "outputs": [
    {
     "name": "stdout",
     "output_type": "stream",
     "text": [
      "a = (1, 2)\n",
      "b = (2, 3)\n",
      "a + b = (3, 5)\n",
      "a.__add__(b) = (3, 5)\n",
      "a * b = (2, 6)\n",
      "a.__mul__(b) = (2, 6)\n",
      "abs(a)= 2.23606797749979\n",
      "a.__abs__() = 2.23606797749979\n"
     ]
    }
   ],
   "source": [
    "a = Vector(1,2)\n",
    "b = Vector(2,3)\n",
    "print(f\"a = {a}\")\n",
    "print(f\"b = {b}\")\n",
    "print(f\"a + b = {a + b}\")\n",
    "print(f\"a.__add__(b) = {a.__add__(b)}\")\n",
    "print(f\"a * b = {a * b}\")\n",
    "print(f\"a.__mul__(b) = {a.__mul__(b)}\")\n",
    "print(f\"abs(a)= {abs(a)}\")\n",
    "print(f\"a.__abs__() = {a.__abs__()}\")\n"
   ]
  },
  {
   "cell_type": "markdown",
   "metadata": {},
   "source": [
    "# Context manager  "
   ]
  },
  {
   "cell_type": "code",
   "execution_count": 84,
   "metadata": {},
   "outputs": [],
   "source": [
    "class Sample5():\n",
    "    def __init__(self):\n",
    "        print(\"__init__ called\")\n",
    "        \n",
    "    def __enter__(self):\n",
    "        print(\"__enter__ called\")\n",
    "        return(self)\n",
    "        \n",
    "    def __exit__(self, exc_type, exc_value, exc_traceback):\n",
    "        print('__exit__ called')\n",
    "        if exc_type:\n",
    "            print(f'exc_type: {exc_type}')\n",
    "            print(f'exc_value: {exc_value}')\n",
    "            print(f'exc_traceback: {exc_traceback}')        \n"
   ]
  },
  {
   "cell_type": "code",
   "execution_count": 85,
   "metadata": {},
   "outputs": [
    {
     "name": "stdout",
     "output_type": "stream",
     "text": [
      "__init__ called\n",
      "__enter__ called\n",
      "inside with statement body\n",
      "__exit__ called\n"
     ]
    }
   ],
   "source": [
    "samp5 = Sample5()\n",
    "with samp5 as p:\n",
    "    print('inside with statement body')"
   ]
  },
  {
   "cell_type": "code",
   "execution_count": 86,
   "metadata": {},
   "outputs": [
    {
     "name": "stdout",
     "output_type": "stream",
     "text": [
      "__init__ called\n",
      "__enter__ called\n",
      "__exit__ called\n",
      "exc_type: <class 'Exception'>\n",
      "exc_value: Exception called\n",
      "exc_traceback: <traceback object at 0x7f0b4c50e708>\n"
     ]
    },
    {
     "ename": "Exception",
     "evalue": "Exception called",
     "output_type": "error",
     "traceback": [
      "\u001b[0;31m---------------------------------------------------------------------------\u001b[0m",
      "\u001b[0;31mException\u001b[0m                                 Traceback (most recent call last)",
      "\u001b[0;32m<ipython-input-86-1b555c676d5d>\u001b[0m in \u001b[0;36m<module>\u001b[0;34m\u001b[0m\n\u001b[1;32m      1\u001b[0m \u001b[0msamp5\u001b[0m \u001b[0;34m=\u001b[0m \u001b[0mSample5\u001b[0m\u001b[0;34m(\u001b[0m\u001b[0;34m)\u001b[0m\u001b[0;34m\u001b[0m\u001b[0;34m\u001b[0m\u001b[0m\n\u001b[1;32m      2\u001b[0m \u001b[0;32mwith\u001b[0m \u001b[0msamp5\u001b[0m \u001b[0;32mas\u001b[0m \u001b[0mp\u001b[0m\u001b[0;34m:\u001b[0m\u001b[0;34m\u001b[0m\u001b[0;34m\u001b[0m\u001b[0m\n\u001b[0;32m----> 3\u001b[0;31m     \u001b[0;32mraise\u001b[0m \u001b[0mException\u001b[0m\u001b[0;34m(\u001b[0m\u001b[0;34m\"Exception called\"\u001b[0m\u001b[0;34m)\u001b[0m\u001b[0;34m\u001b[0m\u001b[0;34m\u001b[0m\u001b[0m\n\u001b[0m\u001b[1;32m      4\u001b[0m     \u001b[0mprint\u001b[0m\u001b[0;34m(\u001b[0m\u001b[0;34m'inside with statement body'\u001b[0m\u001b[0;34m)\u001b[0m\u001b[0;34m\u001b[0m\u001b[0;34m\u001b[0m\u001b[0m\n",
      "\u001b[0;31mException\u001b[0m: Exception called"
     ]
    }
   ],
   "source": [
    "samp5 = Sample5()\n",
    "with samp5 as p:\n",
    "    raise Exception(\"Exception called\")\n",
    "    print('inside with statement body')"
   ]
  },
  {
   "cell_type": "markdown",
   "metadata": {},
   "source": [
    "# Matplotlib with context manager  "
   ]
  },
  {
   "cell_type": "code",
   "execution_count": 87,
   "metadata": {},
   "outputs": [],
   "source": [
    "import matplotlib.pyplot as plt\n",
    "class BasicPlot():\n",
    "    def __init__(self, xlim=None, ylim=None, xlabel=\"\", ylabel=\"\",title=\"\",\n",
    "            save_path=None, figsize=(5,3), dpi=150, tight=True, show=True):\n",
    "        self.fig = plt.figure(figsize=figsize,dpi=dpi)\n",
    "        self.ax = self.fig.add_subplot(111)\n",
    "        self.ax.set_xlabel(xlabel)\n",
    "        self.ax.set_ylabel(ylabel)\n",
    "        self.ax.set_xlim(xlim) if xlim else None\n",
    "        self.ax.set_ylim(ylim) if ylim else None\n",
    "        \n",
    "        self.save_path = save_path\n",
    "        self.title = title\n",
    "        self.tight = tight\n",
    "        self.show = show\n",
    "\n",
    "    def __enter__(self):\n",
    "        return(self)\n",
    "\n",
    "    def __exit__(self,exc_type, exc_value, exc_traceback):\n",
    "        print(\"sees\")\n",
    "        plt.title(self.title)\n",
    "        plt.tight_layout() if self.tight else None \n",
    "        plt.savefig(self.save_path) if self.save_path else None\n",
    "        plt.show() if self.show else None\n"
   ]
  },
  {
   "cell_type": "code",
   "execution_count": 88,
   "metadata": {},
   "outputs": [
    {
     "name": "stdout",
     "output_type": "stream",
     "text": [
      "sees\n"
     ]
    },
    {
     "data": {
      "image/png": "[encoded data removed]",
      "text/plain": [
       "<Figure size 750x450 with 1 Axes>"
      ]
     },
     "metadata": {
      "needs_background": "light"
     },
     "output_type": "display_data"
    }
   ],
   "source": [
    "with BasicPlot() as p:\n",
    "    p.ax.plot([1,2],[2,3])\n",
    "    pass\n",
    "    #raise Exception(\"Exception called\")"
   ]
  },
  {
   "cell_type": "code",
   "execution_count": null,
   "metadata": {},
   "outputs": [],
   "source": []
  }
 ],
 "metadata": {
  "kernelspec": {
   "display_name": "Python 3",
   "language": "python",
   "name": "python3"
  },
  "language_info": {
   "codemirror_mode": {
    "name": "ipython",
    "version": 3
   },
   "file_extension": ".py",
   "mimetype": "text/x-python",
   "name": "python",
   "nbconvert_exporter": "python",
   "pygments_lexer": "ipython3",
   "version": "3.7.2"
  }
 },
 "nbformat": 4,
 "nbformat_minor": 4
}
