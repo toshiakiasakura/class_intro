{
 "cells": [
  {
   "cell_type": "markdown",
   "metadata": {},
   "source": [
    "# Introduction to class usage. \n",
    "Please become master of greeting in various languages. "
   ]
  },
  {
   "cell_type": "code",
   "execution_count": 11,
   "metadata": {},
   "outputs": [
    {
     "name": "stdout",
     "output_type": "stream",
     "text": [
      "The autoreload extension is already loaded. To reload it, use:\n",
      "  %reload_ext autoreload\n"
     ]
    }
   ],
   "source": [
    "%load_ext autoreload\n",
    "%autoreload 2"
   ]
  },
  {
   "cell_type": "code",
   "execution_count": 12,
   "metadata": {},
   "outputs": [],
   "source": [
    "import questions\n",
    "Qs = questions.questions()"
   ]
  },
  {
   "cell_type": "markdown",
   "metadata": {},
   "source": [
    "# Basic class usage "
   ]
  },
  {
   "cell_type": "code",
   "execution_count": 36,
   "metadata": {},
   "outputs": [],
   "source": [
    "class Sample1():\n",
    "    title = \"Sample class\" # class variable \n",
    "    \n",
    "    def __init__(self): # called when instantiated \n",
    "        self.greet = \"Hello world\" # instance variable \n",
    "        self.language = \"English\"\n",
    "    \n",
    "    def hello(self, name): # (instance) method. \n",
    "        print(f\"Hello! {name}\")\n",
    "    \n",
    "    def goodnight(self): \n",
    "        \"\"\"Can set or return variable. \n",
    "        \"\"\"\n",
    "        s = f\"Good night ({self.language})\"\n",
    "        print(s)\n",
    "        self.greet = s\n",
    "        return(s)"
   ]
  },
  {
   "cell_type": "code",
   "execution_count": 37,
   "metadata": {},
   "outputs": [],
   "source": [
    "samp1 = Sample1()"
   ]
  },
  {
   "cell_type": "code",
   "execution_count": 43,
   "metadata": {},
   "outputs": [
    {
     "name": "stdout",
     "output_type": "stream",
     "text": [
      "Hello world\n",
      "English\n"
     ]
    }
   ],
   "source": [
    "print(samp1.greet)\n",
    "print(samp1.language)"
   ]
  },
  {
   "cell_type": "code",
   "execution_count": 38,
   "metadata": {},
   "outputs": [
    {
     "name": "stdout",
     "output_type": "stream",
     "text": [
      "Hello! Michael\n",
      "Hello! George\n"
     ]
    }
   ],
   "source": [
    "samp1.hello(\"Michael\")\n",
    "samp1.hello(\"George\")"
   ]
  },
  {
   "cell_type": "code",
   "execution_count": 46,
   "metadata": {},
   "outputs": [
    {
     "name": "stdout",
     "output_type": "stream",
     "text": [
      "Good night (English)\n"
     ]
    }
   ],
   "source": [
    "greet = samp1.goodnight()"
   ]
  },
  {
   "cell_type": "code",
   "execution_count": 48,
   "metadata": {},
   "outputs": [
    {
     "name": "stdout",
     "output_type": "stream",
     "text": [
      "Good night (English)\n",
      "Good night (English)\n"
     ]
    }
   ],
   "source": [
    "print(greet)\n",
    "print(samp1.greet)"
   ]
  },
  {
   "cell_type": "markdown",
   "metadata": {},
   "source": [
    "## When instantiated, \"\\_\\_init\\_\\_\" can take arguments. "
   ]
  },
  {
   "cell_type": "code",
   "execution_count": 63,
   "metadata": {},
   "outputs": [],
   "source": [
    "class Sample2():\n",
    "    def __init__(self, x):\n",
    "        self.x = x \n"
   ]
  },
  {
   "cell_type": "code",
   "execution_count": 64,
   "metadata": {},
   "outputs": [],
   "source": [
    "samp2_1 = Sample2(1)\n",
    "samp2_2 = Sample2(2)"
   ]
  },
  {
   "cell_type": "code",
   "execution_count": 65,
   "metadata": {},
   "outputs": [
    {
     "name": "stdout",
     "output_type": "stream",
     "text": [
      "1\n",
      "2\n"
     ]
    }
   ],
   "source": [
    "print(samp2_1.x)\n",
    "print(samp2_2.x)"
   ]
  },
  {
   "cell_type": "code",
   "execution_count": 108,
   "metadata": {},
   "outputs": [],
   "source": [
    "class Sample3():\n",
    "    pass \n",
    "    # empty class"
   ]
  },
  {
   "cell_type": "code",
   "execution_count": 111,
   "metadata": {},
   "outputs": [],
   "source": [
    "samp3 = Sample3()\n",
    "def f(name):\n",
    "    print(f\"Good morning! {name}\")\n",
    "    \n",
    "samp3.y =  2\n",
    "samp3.goodmorning = f"
   ]
  },
  {
   "cell_type": "code",
   "execution_count": 112,
   "metadata": {},
   "outputs": [
    {
     "name": "stdout",
     "output_type": "stream",
     "text": [
      "2\n",
      "Good morning! Michael\n"
     ]
    }
   ],
   "source": [
    "print(samp3.y)\n",
    "samp3.goodmorning(\"Michael\")\n"
   ]
  },
  {
   "cell_type": "markdown",
   "metadata": {},
   "source": [
    "# _dir_ method, Explore method of class"
   ]
  },
  {
   "cell_type": "code",
   "execution_count": 70,
   "metadata": {},
   "outputs": [
    {
     "data": {
      "text/plain": [
       "['__class__',\n",
       " '__delattr__',\n",
       " '__dict__',\n",
       " '__dir__',\n",
       " '__doc__',\n",
       " '__eq__',\n",
       " '__format__',\n",
       " '__ge__',\n",
       " '__getattribute__',\n",
       " '__gt__',\n",
       " '__hash__',\n",
       " '__init__',\n",
       " '__init_subclass__',\n",
       " '__le__',\n",
       " '__lt__',\n",
       " '__module__',\n",
       " '__ne__',\n",
       " '__new__',\n",
       " '__reduce__',\n",
       " '__reduce_ex__',\n",
       " '__repr__',\n",
       " '__setattr__',\n",
       " '__sizeof__',\n",
       " '__str__',\n",
       " '__subclasshook__',\n",
       " '__weakref__',\n",
       " 'goodnight',\n",
       " 'greet',\n",
       " 'hello',\n",
       " 'language',\n",
       " 'title']"
      ]
     },
     "execution_count": 70,
     "metadata": {},
     "output_type": "execute_result"
    }
   ],
   "source": [
    "samp1 = Sample1()\n",
    "dir(samp1)"
   ]
  },
  {
   "cell_type": "markdown",
   "metadata": {},
   "source": [
    "# Understand self "
   ]
  },
  {
   "cell_type": "code",
   "execution_count": 84,
   "metadata": {},
   "outputs": [],
   "source": [
    "class Sample4():\n",
    "    def __init__(self): \n",
    "        self.x = 1 \n",
    "        \n",
    "    def hello(self,name):\n",
    "        print(f\"Hello! {name}\")\n",
    "    \n",
    "    def goodnight(sl, name):\n",
    "        print(f\"Good night! {name}, x: {sl.x}\")\n"
   ]
  },
  {
   "cell_type": "code",
   "execution_count": 85,
   "metadata": {},
   "outputs": [
    {
     "name": "stdout",
     "output_type": "stream",
     "text": [
      "Hello! Micheal\n",
      "Good night! Micheal, x: 1\n"
     ]
    }
   ],
   "source": [
    "samp4 = Sample4()\n",
    "samp4.hello(\"Micheal\")\n",
    "samp4.goodnight(\"Micheal\")"
   ]
  },
  {
   "cell_type": "code",
   "execution_count": 120,
   "metadata": {},
   "outputs": [],
   "source": [
    "import types\n",
    "def f(self, name):\n",
    "    print(f\"Good morning! {name}, x:{self.x}\")\n",
    "samp4.goodmorning = types.MethodType(f, samp4)"
   ]
  },
  {
   "cell_type": "code",
   "execution_count": 121,
   "metadata": {},
   "outputs": [
    {
     "name": "stdout",
     "output_type": "stream",
     "text": [
      "Good morning! Micheal, x:1\n"
     ]
    }
   ],
   "source": [
    "samp4.goodmorning(\"Micheal\")"
   ]
  }
 ],
 "metadata": {
  "kernelspec": {
   "display_name": "Python 3",
   "language": "python",
   "name": "python3"
  },
  "language_info": {
   "codemirror_mode": {
    "name": "ipython",
    "version": 3
   },
   "file_extension": ".py",
   "mimetype": "text/x-python",
   "name": "python",
   "nbconvert_exporter": "python",
   "pygments_lexer": "ipython3",
   "version": "3.7.2"
  }
 },
 "nbformat": 4,
 "nbformat_minor": 4
}
